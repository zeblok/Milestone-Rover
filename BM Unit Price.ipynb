{
 "cells": [
  {
   "cell_type": "markdown",
   "metadata": {},
   "source": [
    "#### Optional Install mpld3 for interactive plots\n",
    "(Note: You may need to restart the kernel after installing)"
   ]
  },
  {
   "cell_type": "code",
   "execution_count": null,
   "metadata": {},
   "outputs": [],
   "source": [
    "pip install mpld3"
   ]
  },
  {
   "cell_type": "code",
   "execution_count": null,
   "metadata": {},
   "outputs": [],
   "source": [
    "# import mpld3\n",
    "%matplotlib inline\n",
    "import mpld3\n",
    "mpld3.enable_notebook()"
   ]
  },
  {
   "cell_type": "markdown",
   "metadata": {},
   "source": [
    "#### Import common libraries"
   ]
  },
  {
   "cell_type": "code",
   "execution_count": null,
   "metadata": {},
   "outputs": [],
   "source": [
    "# import common libraries\n",
    "import pandas as pd\n",
    "import numpy as np\n",
    "import matplotlib.pyplot as plt"
   ]
  },
  {
   "cell_type": "markdown",
   "metadata": {},
   "source": [
    "#### Data Preparation"
   ]
  },
  {
   "cell_type": "code",
   "execution_count": null,
   "metadata": {},
   "outputs": [],
   "source": [
    "# load unit prices and benchmarks\n",
    "unit_prices_raw = pd.read_csv(\"unit_prices.csv\")\n",
    "benchmarks_raw = pd.read_csv(\"benchmarks.csv\")\n",
    "\n",
    "# convert dates to datetime\n",
    "unit_prices_raw['ValueDate'] = pd.to_datetime(unit_prices_raw['ValueDate'])\n",
    "benchmarks_raw['ValueDate'] = pd.to_datetime(benchmarks_raw['ValueDate'])"
   ]
  },
  {
   "cell_type": "code",
   "execution_count": null,
   "metadata": {},
   "outputs": [],
   "source": [
    "# reformat dataframe with funds / benchmarks as columns\n",
    "benchmarks = pd.DataFrame(index=benchmarks_raw.ValueDate.unique())\n",
    "for k, g in benchmarks_raw.groupby(\"BenchmarkCode\"):    \n",
    "    benchmarks[k] = g.set_index(\"ValueDate\")['IndexClose_BASE']    \n",
    "    \n",
    "unit_prices = pd.DataFrame(index=benchmarks_raw.ValueDate.unique())\n",
    "for k, g in unit_prices_raw.groupby(\"PriceCode\"):    \n",
    "    try:\n",
    "        unit_prices[k] = g.set_index(\"ValueDate\")['NetNAVPrice']\n",
    "    except ValueError:\n",
    "        pass  # ignore funds with duplicate index"
   ]
  },
  {
   "cell_type": "code",
   "execution_count": null,
   "metadata": {},
   "outputs": [],
   "source": [
    "benchmarks.sort_index(inplace=True)\n",
    "unit_prices.sort_index(inplace=True)"
   ]
  },
  {
   "cell_type": "code",
   "execution_count": null,
   "metadata": {},
   "outputs": [],
   "source": [
    "apdas = unit_prices['APDAS'].dropna()\n",
    "apdalt = unit_prices['APDALT'].dropna()\n",
    "nzbal = unit_prices['NZPBAL'].dropna()\n",
    "\n",
    "# remove constant prices\n",
    "apdalt = apdalt.loc[(apdalt.index < '2020-01-01') & (apdalt.index > '2018-06-30')]  "
   ]
  },
  {
   "cell_type": "code",
   "execution_count": null,
   "metadata": {},
   "outputs": [],
   "source": [
    "def prepare_fund_and_bench(fund, benchmarks, min_not_na=800):        \n",
    "    \"\"\" Align fund and benchmark dates \n",
    "    Args:\n",
    "        fund: Series containg fund prices over time.\n",
    "        benchmarks: Dataframe containing benchmark prices over time.\n",
    "        min_not_na: Threshold for excluding benchmarks with too many NaNs.\n",
    "        \n",
    "    Returns:\n",
    "        Aligned fund and benchmark data.   \n",
    "    \"\"\"    \n",
    "    # get benchmarks with enough data    \n",
    "    bench_cols = benchmarks.columns[benchmarks.loc[fund.index].notna().sum()>=min_not_na]\n",
    "    benchdata = benchmarks.loc[fund.index, bench_cols].dropna()\n",
    "    return fund.loc[benchdata.index], benchdata"
   ]
  },
  {
   "cell_type": "markdown",
   "metadata": {},
   "source": [
    "#### Fit Model"
   ]
  },
  {
   "cell_type": "code",
   "execution_count": null,
   "metadata": {},
   "outputs": [],
   "source": [
    "import statsmodels.api as sm\n",
    "\n",
    "class BenchMapper:\n",
    "    def __fit(self, y, X, alpha=0.05):\n",
    "        \"\"\" Fit returns based on benchmark data. \"\"\"    \n",
    "        self.drop = []\n",
    "        \n",
    "        # Use p-value feature selection    \n",
    "        while X.shape[1] > 0:                            \n",
    "            model = sm.OLS(y, sm.add_constant(X.drop(self.drop, axis=1))).fit(disp=0)\n",
    "            pvalues = model.pvalues.drop(['const'])            \n",
    "            \n",
    "            try:\n",
    "                remove = pvalues.idxmax()  # x with max p-value\n",
    "                pval = pvalues[remove]\n",
    "            except:                \n",
    "                model = sm.OLS(y, sm.add_constant(X[[]])).fit(disp=0)\n",
    "                self.drop = list(X.columns)\n",
    "                \n",
    "                #print(model.summary())\n",
    "                #print(X.tail())\n",
    "                #print(y)\n",
    "                break\n",
    "                \n",
    "            if pval < alpha:\n",
    "                break\n",
    "\n",
    "            self.drop.append(remove)\n",
    "\n",
    "        self.model = model\n",
    "\n",
    "    def __returns_to_prices(self, returns):\n",
    "        \"\"\" Converts returns to price values. \"\"\"           \n",
    "        return self.fund.shift(1).loc[returns.index, self.price_col] * (1 + (returns/100))    \n",
    "        \n",
    "    def fit(self, alpha=0.05):\n",
    "        \"\"\" Train using the first ndays. \"\"\"\n",
    "        X = self.benchmarks[:self.ndays]\n",
    "        y = self.fund_returns[:self.ndays]\n",
    "        self.__fit(y, X, alpha)\n",
    "        \n",
    "    def summary(self):\n",
    "        \"\"\" Returns a pretty summary. \"\"\"\n",
    "        return self.model.summary()\n",
    "    \n",
    "    def __predict(self, X, alpha):\n",
    "        \"\"\" Predicts returns based on fitted model (static) \"\"\"\n",
    "        prediction = self.model.get_prediction(sm.add_constant(X.drop(self.drop, axis=1), has_constant='add'))\n",
    "        frame = prediction.summary_frame(alpha=alpha)\n",
    "        return frame['mean'], frame.obs_ci_lower, frame.obs_ci_upper\n",
    "\n",
    "    def __predict_rolling(self, X, y, alpha):\n",
    "        \"\"\" Predicts returns for next day and then refits the model. \"\"\"\n",
    "        Xtrain = self.benchmarks[:self.ndays]\n",
    "        ytrain = self.benchmarks[:self.ndays]\n",
    "        \n",
    "        # merge dataset\n",
    "        Xfull = pd.concat([Xtrain, X], axis=0)\n",
    "        yfull = pd.concat([ytrain, y], axis=0)\n",
    "        \n",
    "        start = self.ndays\n",
    "        end = self.ndays + self.ndays\n",
    "        \n",
    "        prediction = self.model.get_prediction(sm.add_constant(X.drop(self.drop, axis=1))[:1])\n",
    "        frame = prediction.summary_frame(alpha=alpha)\n",
    "        return frame['mean'], frame.obs_ci_lower, frame.obs_ci_upper\n",
    "                \n",
    "    def fit_predict_rolling(self, to_prices=True, alpha=0.05):\n",
    "        \"\"\" Fits a model and predicts on a rolling basis. \n",
    "        \n",
    "        Args:\n",
    "            to_prices (bool): If true, convert to prices before retaurning.\n",
    "            alpha (float): Significance level.\n",
    "        \n",
    "        Returns:\n",
    "            prediction, lower CI, upper CI            \n",
    "        \"\"\"\n",
    "        X = self.benchmarks  # exog\n",
    "        y = self.fund_returns  # endog\n",
    "        #coeffs = pd.DataFrame(columns=list(range(X.shape[1])), index=X.index)\n",
    "        coeffs = pd.DataFrame(columns=X.columns, index=X.index)\n",
    "        coeffs['const'] = np.nan\n",
    "\n",
    "        N = X.shape[0]\n",
    "        y_pred, y_lci, y_uci = [pd.Series()]*3        \n",
    "        \n",
    "        for i in range(self.ndays, N):\n",
    "            tstart, tend = i-self.ndays, i  # training range        \n",
    "            Xtrain = X[tstart:tend]\n",
    "            \n",
    "            #pca = PCA(n_components=5)            \n",
    "            #pca.fit(X)\n",
    "            #Xtrain = pd.DataFrame(index=Xtrain.index, data=pca.transform(Xtrain))\n",
    "            \n",
    "            ytrain = y[tstart:tend]\n",
    "            \n",
    "            if Xtrain.shape[0] < Xtrain.shape[1]:\n",
    "                break\n",
    "                \n",
    "            # fit the model            \n",
    "            self.__fit(ytrain, Xtrain, alpha)\n",
    "            params = self.model.params.index  # list of non-zero beta coeffs            \n",
    "            pframe = self.model.params.to_frame().T  # convert to dataframe\n",
    "            if y_pred.empty:  # first ndays\n",
    "                # init coeffs for first training period\n",
    "                coeffs.loc[Xtrain.index, params] = pframe.loc[pframe.index.repeat(Xtrain.shape[0])].set_index(Xtrain.index)                                \n",
    "            else:\n",
    "                # set coeffs for most recent period\n",
    "                coeffs.loc[Xtrain.tail(1).index, params] = self.model.params.to_frame().T.set_index(Xtrain.tail(1).index)\n",
    "            \n",
    "            Xtest = X[:i+1] if y_pred.empty else X[i:i+1]  # predict the next day\n",
    "            #Xtest =  pd.DataFrame(index=Xtest.index, data=pca.transform(Xtest))\n",
    "            \n",
    "            y_pred_i, y_lci_i, y_uci_i = self.__predict(Xtest, alpha)\n",
    "            \n",
    "            y_pred = y_pred.append(y_pred_i)\n",
    "            y_lci = y_lci.append(y_lci_i)\n",
    "            y_uci = y_uci.append(y_uci_i)\n",
    "        \n",
    "        # save non-null coeffs\n",
    "        self.coeffs = coeffs.loc[:, (coeffs.notna()).any()].fillna(0)\n",
    "        \n",
    "        if to_prices:\n",
    "            self.y_pred, self.y_lci, self.y_uci = self.__returns_to_prices(y_pred), \\\n",
    "                                                  self.__returns_to_prices(y_lci), \\\n",
    "                                                  self.__returns_to_prices(y_uci)\n",
    "        else:\n",
    "            self.y_pred, self.y_lci, self.y_uci = y_pred, y_lci, y_uci\n",
    "        \n",
    "        return self.y_pred, self.y_lci, self.y_uci\n",
    "        \n",
    "    def predict(self, X, alpha=0.05):\n",
    "        \"\"\" Predicts returns based on fitted model. \n",
    "            \n",
    "        Args:\n",
    "            X (dataframe): Benchmark data to predict from.            \n",
    "            alpha (float): Significance level.\n",
    "        Returns:\n",
    "            prediction, lower CI, upper CI            \n",
    "        \"\"\"\n",
    "        return self.__predict(X, alpha)\n",
    "    \n",
    "    \n",
    "    def predict_price(self, X, alpha=0.05):\n",
    "        \"\"\" Predicts returns based on fitted model and transforms \n",
    "        the result into a price value.\n",
    "        \n",
    "        Args:\n",
    "            X (dataframe): Benchmark data to predict from.            \n",
    "            alpha (float): Significance level.\n",
    "        Returns:\n",
    "            prediction, lower CI, upper CI (prices)      \n",
    "        \"\"\"\n",
    "        pred, lci, uci = self.predict(X, alpha)\n",
    "        return self.__returns_to_prices(pred), \\\n",
    "               self.__returns_to_prices(lci), \\\n",
    "               self.__returns_to_prices(uci)\n",
    "        \n",
    "    def plot(self, start=0, end=-1):    \n",
    "        \"\"\" Plots the predicted and true prices for a specified date range. \n",
    "        \n",
    "        Args: \n",
    "            start (int): Starting index.\n",
    "            end (int): Ending index\n",
    "        \"\"\"\n",
    "        \n",
    "        y_pred, y_lci, y_uci = self.y_pred, self.y_lci, self.y_uci\n",
    "        y_true = self.fund[self.price_col].loc[y_pred.index]          \n",
    "        \n",
    "        fig, ax = plt.subplots(figsize=(20,10))\n",
    "        ax.grid(True, alpha=0.3)        \n",
    "        plt.xlabel(\"Date\", fontsize=14) \n",
    "        plt.ylabel(\"Price\", fontsize=14)\n",
    "        \n",
    "        dates = pd.to_datetime(y_true[start:end].index)\n",
    "        ndates = len(dates)\n",
    "        \n",
    "        actual = None\n",
    "        if y_true is not None:\n",
    "            actual = ax.plot(dates, y_true[start:end], lw=1)\n",
    "            \n",
    "        predicted = ax.plot(dates, y_pred[start:end], lw=1, color='orange')\n",
    "        ax.fill_between(dates, y_lci[start:end], y_uci[start:end], color='orange', alpha=.3)\n",
    "        conf_int = ax.plot(dates, y_lci[start:end], color='orange', dashes=[2,2], lw=2, alpha=0.5)        \n",
    "        ax.plot(dates, y_uci[start:end], color='orange', dashes=[2,2], lw=2, alpha=0.5)\n",
    "            \n",
    "        # Dates where the true price is outside the 95% confidence interval\n",
    "        err_date = pd.to_datetime(y_true[(y_true<y_lci) | (y_true > y_uci)].index)\n",
    "            \n",
    "        yloc_err = [y_true.min(), y_true.max()]  # top and bottom of chart\n",
    "\n",
    "        breach = None\n",
    "        for ed in err_date:\n",
    "            xloc_err = [ed, ed]\n",
    "            breach = ax.plot(xloc_err, yloc_err, c='r')\n",
    "        \n",
    "        if breach is None:\n",
    "            leg = ax.legend(handles=(actual[0], predicted[0], conf_int[0]), labels=('actual', 'predicted', '95% CI'),  prop={'size': 12})            \n",
    "        else:\n",
    "            leg = ax.legend(handles=(actual[0], predicted[0], conf_int[0], breach[0]), labels=('actual', 'predicted', '95% CI', 'breach'),  prop={'size': 12})\n",
    "        \n",
    "        # set the linewidth of each legend object\n",
    "        for legobj in leg.legendHandles:\n",
    "            legobj.set_linewidth(2.0)\n",
    "            \n",
    "        plt.gcf().autofmt_xdate()\n",
    "                  \n",
    "    def plot_coeffs(self):\n",
    "        \"\"\" Plot the weight coefficients over time. \"\"\"\n",
    "        fig, ax = plt.subplots(figsize=(20,10))\n",
    "        ax.grid(True, alpha=0.3)        \n",
    "        plt.xlabel(\"Date\", fontsize=14) \n",
    "        plt.ylabel(\"Weight\", fontsize=14)\n",
    "        \n",
    "        coeffs = self.coeffs\n",
    "        dates = pd.to_datetime(coeffs.index)\n",
    "        \n",
    "        legend_names = coeffs.columns.tolist()\n",
    "        for col in coeffs.columns:            \n",
    "            ax.plot(dates, coeffs[col], label=col)\n",
    "            \n",
    "        leg = ax.legend(legend_names, prop={'size': 12})                 \n",
    "        plt.gcf().autofmt_xdate()\n",
    "        \n",
    "    def __init__(self, fund, benchmarks, price=\"Adj Close\", ndays=60):\n",
    "        \"\"\" Class to facilitate fiting a fund's price movements \n",
    "        as a function of benchmark price movements. \n",
    "        \n",
    "        Args:\n",
    "            fund (dataframe): Dataframe containing fund price movements\n",
    "            benchmarks (dataframe): Dataframe containing benchmarks returns.\n",
    "            price (str): Attribute containing price info.           \n",
    "            ndays (int): Num. days to train on.\n",
    "        \"\"\"                    \n",
    "        self.fund = fund\n",
    "        self.benchmarks = benchmarks.pct_change()[1:]*100\n",
    "        self.fund_returns = fund[price].pct_change()[1:] * 100         \n",
    "        self.price_col = price\n",
    "        self.ndays = ndays        \n",
    "        "
   ]
  },
  {
   "cell_type": "markdown",
   "metadata": {},
   "source": [
    "### Fund APDAS"
   ]
  },
  {
   "cell_type": "code",
   "execution_count": null,
   "metadata": {},
   "outputs": [],
   "source": [
    "apdas, benchdata = prepare_fund_and_bench(apdas, benchmarks)\n",
    "model_fund = BenchMapper(apdas.to_frame(), benchdata[['AUAEQ', 'AUHYH', 'AUPEH', 'AUOEQHR']], price='APDAS', ndays=60)\n",
    "y_pred, y_lci, y_uci = model_fund.fit_predict_rolling()"
   ]
  },
  {
   "cell_type": "markdown",
   "metadata": {},
   "source": [
    "#### Plot APDAS Actual and Predicted Price\n",
    "(Note the menu in the bottom left if using the mpld3 package)"
   ]
  },
  {
   "cell_type": "code",
   "execution_count": null,
   "metadata": {},
   "outputs": [],
   "source": [
    "model_fund.plot()"
   ]
  },
  {
   "cell_type": "markdown",
   "metadata": {},
   "source": [
    "#### Plot benchmark weights over time"
   ]
  },
  {
   "cell_type": "code",
   "execution_count": null,
   "metadata": {},
   "outputs": [],
   "source": [
    "model_fund.plot_coeffs()"
   ]
  },
  {
   "cell_type": "markdown",
   "metadata": {},
   "source": [
    "#### Correlation Table"
   ]
  },
  {
   "cell_type": "code",
   "execution_count": null,
   "metadata": {},
   "outputs": [],
   "source": [
    "import data_context_map.correlation_miner as cm\n",
    "\n",
    "apdas_returns = apdas.pct_change()[1:] * 100\n",
    "data = pd.concat([benchdata.pct_change()[1:]*100, apdas_returns], axis=1)[:120]\n",
    "\n",
    "ctable = cm.CorrelationTable(data, 'APDAS', max_pattern=50, precompute=False, holdout=0)\n",
    "ctable.render()"
   ]
  }
 ],
 "metadata": {
  "kernelspec": {
   "display_name": "Python 3",
   "language": "python",
   "name": "python3"
  },
  "language_info": {
   "codemirror_mode": {
    "name": "ipython",
    "version": 3
   },
   "file_extension": ".py",
   "mimetype": "text/x-python",
   "name": "python",
   "nbconvert_exporter": "python",
   "pygments_lexer": "ipython3",
   "version": "3.7.5"
  }
 },
 "nbformat": 4,
 "nbformat_minor": 4
}
