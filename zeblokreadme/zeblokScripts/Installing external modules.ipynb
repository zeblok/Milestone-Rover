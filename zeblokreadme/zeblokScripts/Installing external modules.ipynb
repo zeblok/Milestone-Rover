{
 "cells": [
  {
   "cell_type": "markdown",
   "metadata": {},
   "source": [
    "## <b>Guide to quickly install external modules into the ZeblokNotebook<b/>"
   ]
  },
  {
   "cell_type": "markdown",
   "metadata": {},
   "source": [
    "### 1. Let's say we wanted to use the module 'xgboost'. Observe that its not installed currently."
   ]
  },
  {
   "cell_type": "code",
   "execution_count": 1,
   "metadata": {},
   "outputs": [
    {
     "name": "stdout",
     "output_type": "stream",
     "text": [
      "ModuleNotFoundError: <class 'ModuleNotFoundError'>\n"
     ]
    }
   ],
   "source": [
    "try:\n",
    "    import xgboost\n",
    "except ImportError as error:\n",
    "    # Output expected ImportErrors.\n",
    "    print(error.__class__.__name__ + \": \" + str(type(error)))"
   ]
  },
  {
   "cell_type": "markdown",
   "metadata": {},
   "source": [
    "### 2. Mention it in `modules.txt` file inside `zeblokNotebooks` folder"
   ]
  },
  {
   "cell_type": "code",
   "execution_count": 2,
   "metadata": {},
   "outputs": [
    {
     "name": "stdout",
     "output_type": "stream",
     "text": [
      "Current Contents: ['scipy\\n', 'pandas\\n', 'xgboost']\n"
     ]
    }
   ],
   "source": [
    "with open('Modules.txt', 'r') as modules_file:\n",
    "        modules = modules_file.readlines()\n",
    "print(\"Current Contents:\",modules)"
   ]
  },
  {
   "cell_type": "markdown",
   "metadata": {},
   "source": [
    "### 3. Import the helper function from `ZeblokInstaller` and run it."
   ]
  },
  {
   "cell_type": "code",
   "execution_count": 3,
   "metadata": {},
   "outputs": [
    {
     "name": "stdout",
     "output_type": "stream",
     "text": [
      "============================================================================\n",
      "1. Installing module- scipy\n",
      "\n",
      "pip install scipy \n",
      "Requirement already satisfied: scipy in /opt/conda/lib/python3.7/site-packages (1.2.1)\n",
      "============================================================================\n",
      "2. Installing module- pandas\n",
      "\n",
      "pip install pandas \n",
      "Requirement already satisfied: pandas in /opt/conda/lib/python3.7/site-packages (0.24.2)\n",
      "Requirement already satisfied: numpy>=1.12.0 in /opt/conda/lib/python3.7/site-packages (from pandas) (1.15.4)\n",
      "Requirement already satisfied: pytz>=2011k in /opt/conda/lib/python3.7/site-packages (from pandas) (2019.3)\n",
      "Requirement already satisfied: python-dateutil>=2.5.0 in /opt/conda/lib/python3.7/site-packages (from pandas) (2.8.0)\n",
      "Requirement already satisfied: six>=1.5 in /opt/conda/lib/python3.7/site-packages (from python-dateutil>=2.5.0->pandas) (1.12.0)\n",
      "============================================================================\n",
      "3. Installing module- xgboost\n",
      "\n",
      "pip install xgboost \n",
      "Collecting xgboost\n",
      "  Using cached https://files.pythonhosted.org/packages/c1/24/5fe7237b2eca13ee0cfb100bec8c23f4e69ce9df852a64b0493d49dae4e0/xgboost-0.90-py2.py3-none-manylinux1_x86_64.whl\n",
      "Requirement already satisfied: numpy in /opt/conda/lib/python3.7/site-packages (from xgboost) (1.15.4)\n",
      "Requirement already satisfied: scipy in /opt/conda/lib/python3.7/site-packages (from xgboost) (1.2.1)\n",
      "Installing collected packages: xgboost\n",
      "Successfully installed xgboost-0.90\n",
      "============================================================================\n"
     ]
    }
   ],
   "source": [
    "import sys\n",
    "scripts_path='/home/jovyan/zeblokNotebooks/zeblokScripts'\n",
    "if scripts_path not in sys.path: \n",
    "    sys.path.insert(0, scripts_path)\n",
    "from ZeblokInstaller import install_modules\n",
    "install_modules()"
   ]
  },
  {
   "cell_type": "markdown",
   "metadata": {},
   "source": [
    "### 4. You are all set! Go ahead and use those modules now!"
   ]
  },
  {
   "cell_type": "code",
   "execution_count": 4,
   "metadata": {},
   "outputs": [
    {
     "data": {
      "text/plain": [
       "<module 'xgboost' from '/opt/conda/lib/python3.7/site-packages/xgboost/__init__.py'>"
      ]
     },
     "execution_count": 4,
     "metadata": {},
     "output_type": "execute_result"
    }
   ],
   "source": [
    "import xgboost as xgb\n",
    "xgb"
   ]
  },
  {
   "cell_type": "markdown",
   "metadata": {},
   "source": [
    "### Tips -\n",
    "#### - Pass 'conda' as the installer_mode argument (Optional, default = 'pip')\n",
    "```python\n",
    "    install_modules(installer_mode = 'conda')\n",
    "```\n",
    "\n",
    "#### - Pass the parameters in the options argument (Optional, default = \"\")\n",
    "```python\n",
    "    install_modules(options = '--user')\n",
    "```\n",
    "#### - Or both!\n",
    "```python\n",
    "    install_modules(installer_mode='conda',options='--user')\n",
    "```"
   ]
  }
 ],
 "metadata": {
  "kernelspec": {
   "display_name": "Python 3",
   "language": "python",
   "name": "python3"
  },
  "language_info": {
   "codemirror_mode": {
    "name": "ipython",
    "version": 3
   },
   "file_extension": ".py",
   "mimetype": "text/x-python",
   "name": "python",
   "nbconvert_exporter": "python",
   "pygments_lexer": "ipython3",
   "version": "3.7.3"
  }
 },
 "nbformat": 4,
 "nbformat_minor": 4
}
