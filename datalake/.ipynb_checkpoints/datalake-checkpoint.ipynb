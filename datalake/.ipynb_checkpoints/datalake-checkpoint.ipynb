{
 "cells": [
  {
   "cell_type": "markdown",
   "metadata": {},
   "source": [
    "# Zeblok Datalake"
   ]
  },
  {
   "cell_type": "markdown",
   "metadata": {},
   "source": [
    "Zeblok Datalake is a high-performance data-store, compatible with the S3 protocol, intended for secure high speed data transfer. As an object store, Zeblok Datalake allows users to read and write large amounts of unstructured data such as photos, videos, log files, spreadsheets, CSV files, etc. Datalake is cloud native and supports GPU-optimized queries through the addition of BlazingDB.\n",
    "\n",
    "With a robust and simple online interface, API CRUD access, in-built Zeblok CLI magic commands, and Python integrations, users can instantly run complex AI related queries for a variety of datasets, visualize the results, and share/revoke reports with clients. <a href='https://docs.zeblok.com/computational/datalake.php'>Readmore</a>"
   ]
  },
  {
   "cell_type": "markdown",
   "metadata": {},
   "source": [
    "## Zeblok CLI"
   ]
  },
  {
   "cell_type": "markdown",
   "metadata": {},
   "source": [
    "### Get the Latest Version Zeblok CLI using Below Command"
   ]
  },
  {
   "cell_type": "code",
   "execution_count": 2,
   "metadata": {},
   "outputs": [
    {
     "name": "stdout",
     "output_type": "stream",
     "text": [
      "ERROR! Session/line number was not unique in database. History logging moved to new session 6\n",
      "\u001b[K\u001b[?25h/opt/conda/bin/zeblok -> /opt/conda/lib/node_modules/zbl-cli/index.jserial\u001b[0m remove 10\u001b[0m\u001b[Kyan/.npm/_lock\u001b[0m\u001b[K\n",
      "+ zbl-cli@1.1.9\n",
      "updated 1 package in 4.359s\n"
     ]
    }
   ],
   "source": [
    "!npm i -g  zbl-cli"
   ]
  },
  {
   "cell_type": "markdown",
   "metadata": {},
   "source": [
    "## Set DatalakeUrl"
   ]
  },
  {
   "cell_type": "code",
   "execution_count": null,
   "metadata": {},
   "outputs": [],
   "source": [
    "!Zeblok setUrl http://130.245.177.209:9000"
   ]
  },
  {
   "cell_type": "markdown",
   "metadata": {},
   "source": [
    "### Login using Zeblok CLI"
   ]
  },
  {
   "cell_type": "markdown",
   "metadata": {},
   "source": [
    "#### To login using Zeblok CLI open terminal from Jupyterlab environment and type the below command.\n",
    "\n",
    "##### Note\n",
    "Remove `!` from the command while running from the Terminal.\n",
    "\n",
    "##### SecretKey and Username are avaialable on Zeblok Computational Dashboard \"Manage your Zeblok Accounts\" Page"
   ]
  },
  {
   "cell_type": "code",
   "execution_count": 4,
   "metadata": {},
   "outputs": [
    {
     "name": "stdout",
     "output_type": "stream",
     "text": [
      "\u001b[33m  _____         _       _           _        ____            _             _           _           \u001b[39m\n",
      "\u001b[33m |__  /   ___  | |__   | |   ___   | | __   |  _ \\    __ _  | |_    __ _  | |   __ _  | | __   ___ \u001b[39m\n",
      "\u001b[33m   / /   / _ \\ | '_ \\  | |  / _ \\  | |/ /   | | | |  / _` | | __|  / _` | | |  / _` | | |/ /  / _ \\\u001b[39m\n",
      "\u001b[33m  / /_  |  __/ | |_) | | | | (_) | |   <    | |_| | | (_| | | |_  | (_| | | | | (_| | |   <  |  __/\u001b[39m\n",
      "\u001b[33m /____|  \\___| |_.__/  |_|  \\___/  |_|\\_\\   |____/   \\__,_|  \\__|  \\__,_| |_|  \\__,_| |_|\\_\\  \\___|\u001b[39m\n",
      "\u001b[33m                                                                                                   \u001b[39m\n",
      "\n",
      "\n",
      "Added `zb` successfully.\n",
      "\n",
      "\u001b[0G\u001b[2K"
     ]
    }
   ],
   "source": [
    "!zeblok login admin 5e25789db08a06614d302dac"
   ]
  },
  {
   "cell_type": "markdown",
   "metadata": {},
   "source": [
    "### List all the Files and Directory on Datalake"
   ]
  },
  {
   "cell_type": "code",
   "execution_count": 14,
   "metadata": {},
   "outputs": [
    {
     "name": "stdout",
     "output_type": "stream",
     "text": [
      "\u001b[m\u001b[36;1mzb/datalake/akash/\u001b[0m\n",
      "\u001b[0m\u001b[m├─ \u001b[1mFL_insurance_sample.csv\u001b[0m\n",
      "\u001b[0m\u001b[m├─ \u001b[1mZeblokReadme.ipynb\u001b[0m\n",
      "\u001b[0m\u001b[m├─ \u001b[1malgebra.log\u001b[0m\n",
      "\u001b[0m\u001b[m├─ \u001b[1mmain.go\u001b[0m\n",
      "\u001b[0m\u001b[m├─ \u001b[1msales.csv\u001b[0m\n",
      "\u001b[0m\u001b[m├─ \u001b[1msample_taxi.csv\u001b[0m\n",
      "\u001b[0m\u001b[m└─ \u001b[36;1mdocs\u001b[0m\n",
      "\u001b[0m\u001b[m   ├─ \u001b[1mMAINTAINERS.md\u001b[0m\n",
      "\u001b[0m\u001b[m   ├─ \u001b[1mminio-admin-complete-guide.md\u001b[0m\n",
      "\u001b[0m\u001b[m   ├─ \u001b[1mminio-client-complete-guide.md\u001b[0m\n",
      "\u001b[0m\u001b[m   ├─ \u001b[1mminio-client-configuration-files.md\u001b[0m\n",
      "\u001b[0m\u001b[m   └─ \u001b[36;1mzh_CN\u001b[0m\n",
      "\u001b[0m\u001b[m      ├─ \u001b[1mCONTRIBUTING.md\u001b[0m\n",
      "\u001b[0m\u001b[m      ├─ \u001b[1mminio-client-complete-guide.md\u001b[0m\n",
      "\u001b[0m\u001b[m      └─ \u001b[1mminio-client-configuration-files.md\u001b[0m\n",
      "\u001b[0m"
     ]
    }
   ],
   "source": [
    "!zbl tree -f zb/datalake/<username>/"
   ]
  },
  {
   "cell_type": "markdown",
   "metadata": {},
   "source": [
    "### Copy file from DataLake to local Notebook Directory"
   ]
  },
  {
   "cell_type": "code",
   "execution_count": null,
   "metadata": {},
   "outputs": [],
   "source": [
    "!zbl cp zb/datalake/<username>/<filepathOnDatalake> <filepathOnNotebookStorage>"
   ]
  },
  {
   "cell_type": "markdown",
   "metadata": {},
   "source": [
    "#### Example is given Below"
   ]
  },
  {
   "cell_type": "code",
   "execution_count": 7,
   "metadata": {},
   "outputs": [
    {
     "name": "stdout",
     "output_type": "stream",
     "text": [
      "...h/main.go:  979 B / 979 B ┃▓▓▓▓▓▓▓▓▓▓▓▓▓▓▓▓▓▓▓▓▓▓▓▓▓▓▓▓▓▓▓▓▓▓┃ 29.49 KiB/s 0s\u001b[0m\u001b[0m\u001b[m\u001b[32;1m"
     ]
    }
   ],
   "source": [
    "!zbl cp zb/datalake/akash/main.go main.go"
   ]
  },
  {
   "cell_type": "markdown",
   "metadata": {},
   "source": [
    "### Copy file from Local Notebook Directory to Datalake"
   ]
  },
  {
   "cell_type": "code",
   "execution_count": null,
   "metadata": {},
   "outputs": [],
   "source": [
    "!zbl cp <localfilePath> zb/datalake/<username>/<datalakeFilePath>"
   ]
  },
  {
   "cell_type": "markdown",
   "metadata": {},
   "source": [
    "### Example is given Below"
   ]
  },
  {
   "cell_type": "code",
   "execution_count": 10,
   "metadata": {},
   "outputs": [
    {
     "name": "stdout",
     "output_type": "stream",
     "text": [
      "...dme.ipynb:  54.33 KiB / 54.33 KiB ┃▓▓▓▓▓▓▓▓▓▓▓▓▓▓▓▓▓▓▓▓▓▓▓▓▓▓▓┃ 1.29 MiB/s 0s\u001b[0m\u001b[0m\u001b[m\u001b[32;1m"
     ]
    }
   ],
   "source": [
    "!zbl cp ZeblokReadme.ipynb zb/datalake/akash/"
   ]
  },
  {
   "cell_type": "code",
   "execution_count": null,
   "metadata": {},
   "outputs": [],
   "source": []
  }
 ],
 "metadata": {
  "kernelspec": {
   "display_name": "Python 3",
   "language": "python",
   "name": "python3"
  },
  "language_info": {
   "codemirror_mode": {
    "name": "ipython",
    "version": 3
   },
   "file_extension": ".py",
   "mimetype": "text/x-python",
   "name": "python",
   "nbconvert_exporter": "python",
   "pygments_lexer": "ipython3",
   "version": "3.7.7"
  }
 },
 "nbformat": 4,
 "nbformat_minor": 4
}
